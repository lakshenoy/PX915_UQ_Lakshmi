{
 "cells": [
  {
   "cell_type": "markdown",
   "metadata": {},
   "source": [
    "# Packages Required\n",
    "To run this notebook, you will need ase and quippy which can be installed by running:\n",
    "\n",
    "$ pip install ase\n",
    "\n",
    "$ pip install quippy\n",
    "\n",
    "Also, make sure the GAP potential file and its sparse files are present in the same directory as this notebook."
   ]
  },
  {
   "cell_type": "markdown",
   "metadata": {},
   "source": [
    "# Code to Calculate Properties\n",
    "The following code was used to compute the properties (lattice energy, elastic constants, and [100] surface energy) in Table-I of the report."
   ]
  },
  {
   "cell_type": "code",
   "execution_count": 1,
   "metadata": {},
   "outputs": [],
   "source": [
    "# Import packages\n",
    "import os\n",
    "import numpy as np\n",
    "from ase import units\n",
    "from ase.build import bulk\n",
    "from ase.optimize import LBFGS\n",
    "from quippy.potential import Potential\n",
    "from ase.constraints import StrainFilter\n",
    "from ase.lattice.cubic import BodyCenteredCubic as BCC\n",
    "from scipy.linalg import solve_triangular\n",
    "\n",
    "# Manual input values\n",
    "ele = 'Fe'\n",
    "crys = 'bcc'\n",
    "sigma_var = 0.001 #eV/atom, regularization for variance calculation"
   ]
  },
  {
   "cell_type": "code",
   "execution_count": 2,
   "metadata": {},
   "outputs": [],
   "source": [
    "# Find potential filename\n",
    "fpot = [f for f in os.listdir() if f.endswith('.xml')][0]\n",
    "\n",
    "# Load the GAP\n",
    "fpot = [ f for f in os.listdir() if f.endswith('.xml')][0]\n",
    "calc_a0 = Potential(param_filename=fpot)\n",
    "calc_bulk = Potential(param_filename=fpot, calc_args='local_gap_variance gap_variance_regularisation='+str(sigma_var))\n",
    "calc_slab = Potential(param_filename=fpot, calc_args='local_gap_variance gap_variance_regularisation='+str(sigma_var))"
   ]
  },
  {
   "cell_type": "code",
   "execution_count": 3,
   "metadata": {},
   "outputs": [
    {
     "name": "stdout",
     "output_type": "stream",
     "text": [
      "       Step     Time          Energy         fmax\n",
      "*Force-consistent energies used in optimization.\n",
      "LBFGS:    0 11:31:53    -6921.847723*       1.7363\n",
      "LBFGS:    1 11:31:53    -6921.866367*       0.2786\n",
      "LBFGS:    2 11:31:53    -6921.866830*       0.0119\n",
      "LBFGS:    3 11:31:53    -6921.866831*       0.0001\n",
      " a0 = 2.834 A\n"
     ]
    }
   ],
   "source": [
    "# Calculate Equilibrium Lattice Constant\n",
    "# Make a cubic unit cell\n",
    "atoms = bulk(ele,crys,cubic=True)\n",
    "atoms.calc = calc_a0\n",
    "# Apply Strain Filter\n",
    "sf = StrainFilter(atoms)\n",
    "# Relax the atomic positions\n",
    "opt = LBFGS(sf)\n",
    "opt.run(fmax=0.0001)\n",
    "# Check diagonal components\n",
    "a0 = np.diag(atoms.get_cell())[0]\n",
    "# Print results\n",
    "print(' a0 = {:.3f} A'.format(a0))"
   ]
  },
  {
   "cell_type": "code",
   "execution_count": 4,
   "metadata": {},
   "outputs": [
    {
     "name": "stdout",
     "output_type": "stream",
     "text": [
      "       Step     Time          Energy         fmax\n",
      "*Force-consistent energies used in optimization.\n",
      "LBFGS:    0 11:31:59    -6921.866831*       0.0000\n"
     ]
    },
    {
     "data": {
      "text/plain": [
       "True"
      ]
     },
     "execution_count": 4,
     "metadata": {},
     "output_type": "execute_result"
    }
   ],
   "source": [
    "# Update structure using equilibrium lattice constant a0\n",
    "atoms = bulk(ele,crys,a0,cubic=True)\n",
    "atoms.calc = calc_a0\n",
    "# Relax the atomic positions\n",
    "opt = LBFGS(atoms)\n",
    "opt.run(fmax=0.0001)"
   ]
  },
  {
   "cell_type": "code",
   "execution_count": 5,
   "metadata": {},
   "outputs": [
    {
     "name": "stdout",
     "output_type": "stream",
     "text": [
      "       Step     Time          Energy         fmax\n",
      "*Force-consistent energies used in optimization.\n",
      "LBFGS:    0 11:33:51   -55374.934646*       0.0000\n",
      "       Step     Time          Energy         fmax\n",
      "*Force-consistent energies used in optimization.\n",
      "LBFGS:    0 11:35:19   -55372.375999*       0.3119\n",
      "LBFGS:    1 11:35:20   -55372.380088*       0.2477\n",
      "LBFGS:    2 11:35:20   -55372.387241*       0.0664\n",
      "LBFGS:    3 11:35:20   -55372.387521*       0.0664\n",
      "LBFGS:    4 11:35:21   -55372.388792*       0.0455\n",
      "LBFGS:    5 11:35:21   -55372.389044*       0.0403\n",
      "LBFGS:    6 11:35:21   -55372.389223*       0.0326\n",
      "LBFGS:    7 11:35:22   -55372.389353*       0.0221\n",
      "LBFGS:    8 11:35:22   -55372.389474*       0.0225\n",
      "LBFGS:    9 11:35:22   -55372.389531*       0.0160\n",
      "LBFGS:   10 11:35:23   -55372.389565*       0.0122\n",
      "LBFGS:   11 11:35:23   -55372.389593*       0.0132\n",
      "LBFGS:   12 11:35:23   -55372.389616*       0.0108\n",
      "LBFGS:   13 11:35:24   -55372.389628*       0.0079\n",
      "LBFGS:   14 11:35:24   -55372.389637*       0.0076\n",
      "LBFGS:   15 11:35:24   -55372.389650*       0.0110\n",
      "LBFGS:   16 11:35:25   -55372.389670*       0.0135\n",
      "LBFGS:   17 11:35:25   -55372.389698*       0.0130\n",
      "LBFGS:   18 11:35:26   -55372.389728*       0.0130\n",
      "LBFGS:   19 11:35:26   -55372.389760*       0.0155\n",
      "LBFGS:   20 11:35:26   -55372.389797*       0.0144\n",
      "LBFGS:   21 11:35:27   -55372.389833*       0.0106\n",
      "LBFGS:   22 11:35:27   -55372.389853*       0.0058\n",
      "LBFGS:   23 11:35:27   -55372.389857*       0.0025\n",
      "LBFGS:   24 11:35:28   -55372.389858*       0.0012\n",
      "LBFGS:   25 11:35:28   -55372.389858*       0.0007\n",
      "LBFGS:   26 11:35:29   -55372.389858*       0.0003\n",
      "LBFGS:   27 11:35:29   -55372.389858*       0.0001\n",
      "[100] surface energy = 2.538 +/- 0.036 J/m^2\n"
     ]
    }
   ],
   "source": [
    "# Calculate [100] surface energy\n",
    "# Build bulk and slab [100]\n",
    "Fe_bulk = BCC(ele,size=(8,1,1),latticeconstant=a0)\n",
    "cell = Fe_bulk.get_cell() ; cell[0,:] *=2 # vacuum along x-axis for [100] surface\n",
    "Fe_slab = Fe_bulk.copy() ; Fe_slab.set_cell(cell)\n",
    "# Assign GAP calculators\n",
    "Fe_bulk.calc = calc_bulk\n",
    "Fe_slab.calc = calc_slab\n",
    "# Optimize positions\n",
    "opt_bulk = LBFGS(Fe_bulk)\n",
    "opt_bulk.run(fmax=0.0001)\n",
    "opt_slab = LBFGS(Fe_slab)\n",
    "opt_slab.run(fmax=0.0001)\n",
    "# Find [100] surface energy\n",
    "area = np.linalg.norm(np.cross(Fe_slab.get_cell()[1,:],Fe_slab.get_cell()[2,:]))\n",
    "gamma_ase = (Fe_slab.get_potential_energy() - Fe_bulk.get_potential_energy())/(2*area)\n",
    "gamma_SI = (gamma_ase / units.J ) * (units.m)**2\n",
    "# Find error bars (stdev)\n",
    "var_bulk = np.sum(calc_bulk.extra_results['atoms']['local_gap_variance']) \n",
    "var_slab = np.sum(calc_slab.extra_results['atoms']['local_gap_variance'])\n",
    "stdev = ( ( np.sqrt(var_bulk + var_slab)/(2*area) ) / units.J ) * (units.m)**2\n",
    "# Print results\n",
    "print('[100] surface energy = {:.3f} +/- {:.3f} J/m^2'.format(gamma_SI,stdev))    "
   ]
  },
  {
   "cell_type": "markdown",
   "metadata": {},
   "source": [
    "# Code to Check Error Bars\n",
    "\n",
    "The following code is a brute-force alternative to quantify the uncertainty of the predicted surface energies, by sampling the posterior distribution of the GAP. "
   ]
  },
  {
   "cell_type": "code",
   "execution_count": 6,
   "metadata": {},
   "outputs": [],
   "source": [
    "# Extra packages required\n",
    "from quippy.descriptors import Descriptor\n",
    "from ase.io import read"
   ]
  },
  {
   "cell_type": "code",
   "execution_count": 7,
   "metadata": {},
   "outputs": [],
   "source": [
    "# Open the XML file\n",
    "f = open('gp4.xml')\n",
    "lines = f.readlines()\n",
    "f.close()\n",
    "\n",
    "# Extract 2body kernel parameters\n",
    "pos_2b = [i for i, line in enumerate(lines) if 'distance_2b' in line][0]\n",
    "params = lines[pos_2b].split('=')\n",
    "index = [i+1 for i, param in enumerate(params) if 'delta' in param][0]\n",
    "delta_2b = float(params[index].split()[0])\n",
    "index = [i+1 for i, param in enumerate(params) if 'n_sparse' in param][0]\n",
    "n_2b = int(params[index].split()[0])\n",
    "\n",
    "# Extract SOAP kernel parameters\n",
    "pos_sp = [i for i, line in enumerate(lines) if 'soap' in line][0]\n",
    "params = lines[pos_sp].split('=')\n",
    "index = [i+1 for i, param in enumerate(params) if 'delta' in param][0]\n",
    "delta_sp = float(params[index].split()[0])\n",
    "index = [i+1 for i, param in enumerate(params) if 'zeta' in param][0]\n",
    "zeta = int(params[index].split()[0])\n",
    "index = [i+1 for i, param in enumerate(params) if 'config_type_n_sparse' in param][0]\n",
    "n_sp = sum([int(line.split(':')[1]) for line in params[index].replace('}','').split() if ':' in line])\n",
    "\n",
    "sparse_jitter=1e-12"
   ]
  },
  {
   "cell_type": "code",
   "execution_count": 8,
   "metadata": {},
   "outputs": [],
   "source": [
    "# 2body data location\n",
    "start = pos_2b + 2\n",
    "stop = start + n_2b\n",
    "\n",
    "# Extract 2body alphas and cutoffs\n",
    "alpha_2b = np.array([ float(line.split()[2].split('\"')[1]) for line in lines[start:stop] ])\n",
    "cuts_spt = np.array([ float(line.split()[3].split('\"')[1]) for line in lines[start:stop] ])\n",
    "\n",
    "# SOAP data location\n",
    "start = pos_sp + 2\n",
    "stop = start + n_sp\n",
    "\n",
    "# Extract SOAP alphas \n",
    "alpha_sp = np.array([ float(line.split()[2].split('\"')[1]) for line in lines[start:stop] ])\n",
    "# All SOAP cutoffs are 1.0"
   ]
  },
  {
   "cell_type": "code",
   "execution_count": 9,
   "metadata": {},
   "outputs": [],
   "source": [
    "# Load descriptor vectors for sparse points\n",
    "vecs_2b = np.loadtxt('gp4.xml.sparseX.GAP_2021_9_1_60_23_26_27_9221')\n",
    "vecs_sp = np.loadtxt('gp4.xml.sparseX.GAP_2021_9_1_60_23_26_27_9222')\n",
    "\n",
    "# Reshape SOAP vectors\n",
    "len_q = int(len(vecs_sp)/n_sp)\n",
    "vecs_sp = np.reshape(vecs_sp,(n_sp,len_q))"
   ]
  },
  {
   "cell_type": "code",
   "execution_count": 10,
   "metadata": {},
   "outputs": [],
   "source": [
    "# 2body covariance matrix for sparse points\n",
    "K_2b = delta_2b**2 * np.array([[ ci*cj*np.exp(-0.5 * (i-j)**2 ) for j,cj in zip(vecs_2b,cuts_spt)] for i,ci in zip(vecs_2b,cuts_spt)])\n",
    "\n",
    "# SOAP covariance matrix for sparse points\n",
    "K_sp = delta_sp**2 * np.array([[ np.dot(i,j) for j in vecs_sp] for i in vecs_sp])**zeta"
   ]
  },
  {
   "cell_type": "code",
   "execution_count": 11,
   "metadata": {},
   "outputs": [],
   "source": [
    "# Define descriptors\n",
    "desc_2b = Descriptor(\"distance_2b cutoff=5.0 theta_uniform=1.0\")\n",
    "desc_sp = Descriptor(\"soap l_max=12 n_max=12 cutoff=5.0 cutoff_transition_width=1.0 atom_sigma=0.5\")\n",
    "\n",
    "# Find 2body descriptors for test samples\n",
    "d_2b_bulk = desc_2b.calc(Fe_bulk)['data'] \n",
    "d_2b_slab = desc_2b.calc(Fe_slab)['data']\n",
    "d_2b = np.concatenate((d_2b_bulk,d_2b_slab)).flatten()\n",
    "nb_bulk = len(d_2b_bulk)\n",
    "nb_slab = len(d_2b_slab)\n",
    "\n",
    "# Find cutoff for the 2body descriptors\n",
    "cuts_bulk = desc_2b.calc(Fe_bulk)['covariance_cutoff'] \n",
    "cuts_slab = desc_2b.calc(Fe_slab)['covariance_cutoff'] \n",
    "cuts_new = np.concatenate((cuts_bulk,cuts_slab)).flatten()\n",
    "\n",
    "# Find soap descriptors for test samples\n",
    "d_sp_bulk = desc_sp.calc(Fe_bulk)['data'] \n",
    "d_sp_slab = desc_sp.calc(Fe_slab)['data']\n",
    "d_sp = np.concatenate((d_sp_bulk,d_sp_slab))\n",
    "nat = len(Fe_bulk.get_atomic_numbers())"
   ]
  },
  {
   "cell_type": "code",
   "execution_count": 12,
   "metadata": {},
   "outputs": [],
   "source": [
    "# Full covariance matrix for 2body contribution\n",
    "K_star_2b = delta_2b**2 * np.array([[ ci*cj*np.exp(-0.5 * (i-j)**2 ) for j,cj in zip(d_2b,cuts_new)] for i,ci in zip(d_2b,cuts_new)])\n",
    "k_star_2b = delta_2b**2 * np.array([[ ci*cj*np.exp(-0.5 * (i-j)**2 ) for j,cj in zip(vecs_2b,cuts_spt)] for i,ci in zip(d_2b,cuts_new)])\n",
    "\n",
    "# Use Cholesky decomposition to solve the linear systems\n",
    "size = len(K_2b)\n",
    "L = np.linalg.cholesky(K_2b + sigma_var**2 * np.eye(size))\n",
    "v = solve_triangular(L, k_star_2b.T,lower=True)\n",
    "V_star_2b = K_star_2b - np.dot(v.T, v)"
   ]
  },
  {
   "cell_type": "code",
   "execution_count": 13,
   "metadata": {},
   "outputs": [],
   "source": [
    "# Training energy values for SOAP\n",
    "Y_sp = [np.dot(vec,alpha_sp) for vec in K_sp]\n",
    "\n",
    "# Full covariance matrix for SOAP contribution\n",
    "K_star_sp = delta_sp**2 * np.array([[ np.dot(i,j) for j in d_sp] for i in d_sp])**zeta\n",
    "k_star_sp = delta_sp**2 * np.array([[ np.dot(i,j) for j in vecs_sp] for i in d_sp])**zeta\n",
    "\n",
    "# Use Cholesky decomposition to solve the linear systems\n",
    "size = len(K_sp)\n",
    "L = np.linalg.cholesky(K_sp + sigma_var**2 * np.eye(size))\n",
    "v = solve_triangular(L, k_star_sp.T,lower=True)\n",
    "V_star_sp = K_star_sp - np.dot(v.T, v)"
   ]
  },
  {
   "cell_type": "code",
   "execution_count": 14,
   "metadata": {},
   "outputs": [],
   "source": [
    "# Compute predicted energies\n",
    "y_2b = [np.dot(vec,alpha_2b) for vec in k_star_2b]\n",
    "y_sp = [np.dot(vec,alpha_sp) for vec in k_star_sp]"
   ]
  },
  {
   "cell_type": "code",
   "execution_count": 15,
   "metadata": {},
   "outputs": [],
   "source": [
    "# Sample from the posterior\n",
    "N_sample = 10\n",
    "samples_2b = np.array([ np.random.multivariate_normal(y_2b, V_star_2b) for i in range(N_sample) ])\n",
    "samples_sp = np.array([ np.random.multivariate_normal(y_sp, V_star_sp) for i in range(N_sample) ])"
   ]
  },
  {
   "cell_type": "code",
   "execution_count": 16,
   "metadata": {},
   "outputs": [],
   "source": [
    "# Compute bulk and slab energies\n",
    "E_bulk_2b = np.array([ sum(sample[:nb_bulk]) for sample in samples_2b])\n",
    "E_slab_2b = np.array([ sum(sample[nb_bulk:]) for sample in samples_2b])\n",
    "E_bulk_sp = np.array([ sum(sample[:nat]) for sample in samples_sp])\n",
    "E_slab_sp = np.array([ sum(sample[nat:]) for sample in samples_sp])\n",
    "E_bulk = E_bulk_2b + E_bulk_sp\n",
    "E_slab = E_slab_2b + E_slab_sp\n",
    "\n",
    "# Calculate [100] surface energy for the samples\n",
    "gamma_samples = (E_slab-E_bulk) * (units.m)**2 / (2*area*units.J)"
   ]
  },
  {
   "cell_type": "code",
   "execution_count": 19,
   "metadata": {},
   "outputs": [
    {
     "data": {
      "image/png": "[encoded data removed]",
      "text/plain": [
       "<matplotlib.figure.Figure at 0x7fe7c430ba58>"
      ]
     },
     "metadata": {},
     "output_type": "display_data"
    }
   ],
   "source": [
    "# Plot histogram\n",
    "import matplotlib.pyplot as plt\n",
    "plt.hist(gamma_samples)\n",
    "plt.show()\n",
    "\n",
    "# If sufficient samples are used, this histogram should be a roughly a Gaussian with its mean at *gamma_SI*,\n",
    "# and its standard deviation should agree in order with the *stdev* value predicted by the GAP calculator.\n",
    "# The exact value by this brute-force alternative method should be slightly larger, \n",
    "# as this method samples the entire posterior, while the GAP calculator uses only the \n",
    "# diagonal terms of the covariance matrix (which are the main contribution)."
   ]
  },
  {
   "cell_type": "code",
   "execution_count": null,
   "metadata": {},
   "outputs": [],
   "source": []
  },
  {
   "cell_type": "code",
   "execution_count": null,
   "metadata": {},
   "outputs": [],
   "source": []
  },
  {
   "cell_type": "code",
   "execution_count": 21,
   "metadata": {},
   "outputs": [],
   "source": []
  },
  {
   "cell_type": "code",
   "execution_count": 22,
   "metadata": {},
   "outputs": [],
   "source": []
  },
  {
   "cell_type": "code",
   "execution_count": null,
   "metadata": {},
   "outputs": [],
   "source": []
  },
  {
   "cell_type": "code",
   "execution_count": null,
   "metadata": {},
   "outputs": [],
   "source": []
  },
  {
   "cell_type": "code",
   "execution_count": null,
   "metadata": {},
   "outputs": [],
   "source": []
  },
  {
   "cell_type": "code",
   "execution_count": null,
   "metadata": {},
   "outputs": [],
   "source": []
  }
 ],
 "metadata": {
  "kernelspec": {
   "display_name": "Python 3",
   "language": "python",
   "name": "python3"
  },
  "language_info": {
   "codemirror_mode": {
    "name": "ipython",
    "version": 3
   },
   "file_extension": ".py",
   "mimetype": "text/x-python",
   "name": "python",
   "nbconvert_exporter": "python",
   "pygments_lexer": "ipython3",
   "version": "3.6.9"
  }
 },
 "nbformat": 4,
 "nbformat_minor": 2
}
